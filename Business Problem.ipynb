{
 "cells": [
  {
   "cell_type": "markdown",
   "metadata": {},
   "source": [
    "## Content\n",
    "* [Business Problem](#intro)\n",
    "* [Data Used](#data)"
   ]
  },
  {
   "cell_type": "markdown",
   "metadata": {},
   "source": [
    "## Bussiness Problem <a name=\"intro\"></a>"
   ]
  },
  {
   "cell_type": "markdown",
   "metadata": {},
   "source": [
    "There is the requirement of Recommendation system for the visitors in an area. That system will later be integrated with mobile and web-based application. Currently, a POC is required to be done for a Orlando, Florida which is known for Amusement parks. This will help the visitors to figure out tha available options in the area. Later on it will be automated for other places. This will returned the list of top 5 options based on the options. For this POC, we will consider only the 5 categories - Resturants,Drinks, Parks and Others(it will include everything else)."
   ]
  },
  {
   "cell_type": "markdown",
   "metadata": {},
   "source": [
    "## Data Used <a name=\"data\"></a>"
   ]
  },
  {
   "cell_type": "markdown",
   "metadata": {},
   "source": [
    "We will explore the offerings available in the area and try to figure out the most popular places in different categories\n",
    "\n",
    "Data sources that will be used are:\n",
    "\n",
    "- Foursqaure.api is used to get the information about the type of venues available for the given area(Orlando,Florida).\n",
    "- Foursquare.api will be used to retrieve the records based on the popularity of the venue( this can be done by setting the parameter bool_popular = 1)\n",
    "- Latitutde and Longitude details of the given area can be retrieved from Google Maps API.\n"
   ]
  },
  {
   "cell_type": "code",
   "execution_count": null,
   "metadata": {},
   "outputs": [],
   "source": []
  }
 ],
 "metadata": {
  "kernelspec": {
   "display_name": "Python 3",
   "language": "python",
   "name": "python3"
  },
  "language_info": {
   "codemirror_mode": {
    "name": "ipython",
    "version": 3
   },
   "file_extension": ".py",
   "mimetype": "text/x-python",
   "name": "python",
   "nbconvert_exporter": "python",
   "pygments_lexer": "ipython3",
   "version": "3.7.3"
  }
 },
 "nbformat": 4,
 "nbformat_minor": 2
}
